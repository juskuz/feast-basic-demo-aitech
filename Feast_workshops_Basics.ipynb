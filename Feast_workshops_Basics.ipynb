{
  "cells": [
    {
      "cell_type": "markdown",
      "metadata": {
        "id": "ciUGRu1WaXfS"
      },
      "source": [
        "## Feast demo - local version (simplest)"
      ]
    },
    {
      "cell_type": "markdown",
      "metadata": {
        "id": "jQd6PW6SaHvM"
      },
      "source": [
        "#### 1. Install libraries. After this step restart runtime."
      ]
    },
    {
      "cell_type": "code",
      "execution_count": 1,
      "metadata": {
        "colab": {
          "base_uri": "https://localhost:8080/",
          "height": 1000
        },
        "id": "NNbpF-SMJVwg",
        "outputId": "3e346c91-7818-4f39-ea7b-c7ebbf7413cf"
      },
      "outputs": [
        {
          "name": "stdout",
          "output_type": "stream",
          "text": [
            "Collecting feast\n",
            "  Downloading feast-0.21.2-cp37-cp37m-manylinux_2_17_x86_64.manylinux2014_x86_64.whl (15.3 MB)\n",
            "\u001b[K     |████████████████████████████████| 15.3 MB 21.6 MB/s \n",
            "\u001b[?25hRequirement already satisfied: pandas in /usr/local/lib/python3.7/dist-packages (1.3.5)\n",
            "Collecting grpcio-reflection<2,>=1.34.0\n",
            "  Downloading grpcio_reflection-1.46.3-py3-none-any.whl (16 kB)\n",
            "Collecting PyYAML<7,>=5.4.*\n",
            "  Downloading PyYAML-6.0-cp37-cp37m-manylinux_2_5_x86_64.manylinux1_x86_64.manylinux_2_12_x86_64.manylinux2010_x86_64.whl (596 kB)\n",
            "\u001b[K     |████████████████████████████████| 596 kB 50.4 MB/s \n",
            "\u001b[?25hRequirement already satisfied: Jinja2<4,>=2 in /usr/local/lib/python3.7/dist-packages (from feast) (2.11.3)\n",
            "Requirement already satisfied: click<8.0.2,>=7.0.0 in /usr/local/lib/python3.7/dist-packages (from feast) (7.1.2)\n",
            "Requirement already satisfied: tabulate==0.8.* in /usr/local/lib/python3.7/dist-packages (from feast) (0.8.9)\n",
            "Collecting pydantic<2,>=1\n",
            "  Downloading pydantic-1.9.1-cp37-cp37m-manylinux_2_17_x86_64.manylinux2014_x86_64.whl (11.1 MB)\n",
            "\u001b[K     |████████████████████████████████| 11.1 MB 54.9 MB/s \n",
            "\u001b[?25hRequirement already satisfied: dill==0.3.* in /usr/local/lib/python3.7/dist-packages (from feast) (0.3.4)\n",
            "Collecting fastavro<2,>=1.1.0\n",
            "  Downloading fastavro-1.4.12-cp37-cp37m-manylinux_2_17_x86_64.manylinux2014_x86_64.whl (2.3 MB)\n",
            "\u001b[K     |████████████████████████████████| 2.3 MB 53.8 MB/s \n",
            "\u001b[?25hCollecting mmh3\n",
            "  Downloading mmh3-3.0.0-cp37-cp37m-manylinux2010_x86_64.whl (50 kB)\n",
            "\u001b[K     |████████████████████████████████| 50 kB 8.8 MB/s \n",
            "\u001b[?25hCollecting dask<2022.02.0,>=2021.*\n",
            "  Downloading dask-2022.1.1-py3-none-any.whl (1.1 MB)\n",
            "\u001b[K     |████████████████████████████████| 1.1 MB 61.2 MB/s \n",
            "\u001b[?25hCollecting proto-plus<1.19.7\n",
            "  Downloading proto_plus-1.19.6-py3-none-any.whl (45 kB)\n",
            "\u001b[K     |████████████████████████████████| 45 kB 4.5 MB/s \n",
            "\u001b[?25hCollecting fastapi<1,>=0.68.0\n",
            "  Downloading fastapi-0.78.0-py3-none-any.whl (54 kB)\n",
            "\u001b[K     |████████████████████████████████| 54 kB 3.9 MB/s \n",
            "\u001b[?25hCollecting pandavro==1.5.*\n",
            "  Downloading pandavro-1.5.2.tar.gz (3.8 kB)\n",
            "Requirement already satisfied: numpy<1.22,<2 in /usr/local/lib/python3.7/dist-packages (from feast) (1.21.6)\n",
            "Collecting colorama<1,>=0.3.9\n",
            "  Downloading colorama-0.4.4-py2.py3-none-any.whl (16 kB)\n",
            "Requirement already satisfied: grpcio<2,>=1.34.0 in /usr/local/lib/python3.7/dist-packages (from feast) (1.46.1)\n",
            "Requirement already satisfied: tqdm==4.* in /usr/local/lib/python3.7/dist-packages (from feast) (4.64.0)\n",
            "Requirement already satisfied: tensorflow-metadata<2.0.0,>=1.0.0 in /usr/local/lib/python3.7/dist-packages (from feast) (1.8.0)\n",
            "Requirement already satisfied: protobuf<3.20,>=3.10 in /usr/local/lib/python3.7/dist-packages (from feast) (3.17.3)\n",
            "Requirement already satisfied: google-api-core<3,>=1.23.0 in /usr/local/lib/python3.7/dist-packages (from feast) (1.31.5)\n",
            "Requirement already satisfied: tenacity<9,>=7 in /usr/local/lib/python3.7/dist-packages (from feast) (8.0.1)\n",
            "Requirement already satisfied: pyarrow<7,>=4 in /usr/local/lib/python3.7/dist-packages (from feast) (6.0.1)\n",
            "Collecting uvicorn[standard]<1,>=0.14.0\n",
            "  Downloading uvicorn-0.17.6-py3-none-any.whl (53 kB)\n",
            "\u001b[K     |████████████████████████████████| 53 kB 2.5 MB/s \n",
            "\u001b[?25hCollecting googleapis-common-protos<2,==1.52.*\n",
            "  Downloading googleapis_common_protos-1.52.0-py2.py3-none-any.whl (100 kB)\n",
            "\u001b[K     |████████████████████████████████| 100 kB 9.5 MB/s \n",
            "\u001b[?25hCollecting toml==0.10.*\n",
            "  Downloading toml-0.10.2-py2.py3-none-any.whl (16 kB)\n",
            "Requirement already satisfied: jsonschema in /usr/local/lib/python3.7/dist-packages (from feast) (4.3.3)\n",
            "Requirement already satisfied: six>=1.9 in /usr/local/lib/python3.7/dist-packages (from pandavro==1.5.*->feast) (1.15.0)\n",
            "Requirement already satisfied: pytz>=2017.3 in /usr/local/lib/python3.7/dist-packages (from pandas) (2022.1)\n",
            "Requirement already satisfied: python-dateutil>=2.7.3 in /usr/local/lib/python3.7/dist-packages (from pandas) (2.8.2)\n",
            "Collecting fsspec>=0.6.0\n",
            "  Downloading fsspec-2022.5.0-py3-none-any.whl (140 kB)\n",
            "\u001b[K     |████████████████████████████████| 140 kB 82.0 MB/s \n",
            "\u001b[?25hRequirement already satisfied: packaging>=20.0 in /usr/local/lib/python3.7/dist-packages (from dask<2022.02.0,>=2021.*->feast) (21.3)\n",
            "Requirement already satisfied: toolz>=0.8.2 in /usr/local/lib/python3.7/dist-packages (from dask<2022.02.0,>=2021.*->feast) (0.11.2)\n",
            "Collecting partd>=0.3.10\n",
            "  Downloading partd-1.2.0-py3-none-any.whl (19 kB)\n",
            "Requirement already satisfied: cloudpickle>=1.1.1 in /usr/local/lib/python3.7/dist-packages (from dask<2022.02.0,>=2021.*->feast) (1.3.0)\n",
            "Collecting starlette==0.19.1\n",
            "  Downloading starlette-0.19.1-py3-none-any.whl (63 kB)\n",
            "\u001b[K     |████████████████████████████████| 63 kB 2.2 MB/s \n",
            "\u001b[?25hCollecting anyio<5,>=3.4.0\n",
            "  Downloading anyio-3.6.1-py3-none-any.whl (80 kB)\n",
            "\u001b[K     |████████████████████████████████| 80 kB 11.6 MB/s \n",
            "\u001b[?25hRequirement already satisfied: typing-extensions>=3.10.0 in /usr/local/lib/python3.7/dist-packages (from starlette==0.19.1->fastapi<1,>=0.68.0->feast) (4.2.0)\n",
            "Requirement already satisfied: idna>=2.8 in /usr/local/lib/python3.7/dist-packages (from anyio<5,>=3.4.0->starlette==0.19.1->fastapi<1,>=0.68.0->feast) (2.10)\n",
            "Collecting sniffio>=1.1\n",
            "  Downloading sniffio-1.2.0-py3-none-any.whl (10 kB)\n",
            "Requirement already satisfied: requests<3.0.0dev,>=2.18.0 in /usr/local/lib/python3.7/dist-packages (from google-api-core<3,>=1.23.0->feast) (2.23.0)\n",
            "Requirement already satisfied: setuptools>=40.3.0 in /usr/local/lib/python3.7/dist-packages (from google-api-core<3,>=1.23.0->feast) (57.4.0)\n",
            "Requirement already satisfied: google-auth<2.0dev,>=1.25.0 in /usr/local/lib/python3.7/dist-packages (from google-api-core<3,>=1.23.0->feast) (1.35.0)\n",
            "Requirement already satisfied: pyasn1-modules>=0.2.1 in /usr/local/lib/python3.7/dist-packages (from google-auth<2.0dev,>=1.25.0->google-api-core<3,>=1.23.0->feast) (0.2.8)\n",
            "Requirement already satisfied: cachetools<5.0,>=2.0.0 in /usr/local/lib/python3.7/dist-packages (from google-auth<2.0dev,>=1.25.0->google-api-core<3,>=1.23.0->feast) (4.2.4)\n",
            "Requirement already satisfied: rsa<5,>=3.1.4 in /usr/local/lib/python3.7/dist-packages (from google-auth<2.0dev,>=1.25.0->google-api-core<3,>=1.23.0->feast) (4.8)\n",
            "Collecting grpcio<2,>=1.34.0\n",
            "  Downloading grpcio-1.46.3-cp37-cp37m-manylinux_2_17_x86_64.manylinux2014_x86_64.whl (4.4 MB)\n",
            "\u001b[K     |████████████████████████████████| 4.4 MB 36.4 MB/s \n",
            "\u001b[?25hRequirement already satisfied: MarkupSafe>=0.23 in /usr/local/lib/python3.7/dist-packages (from Jinja2<4,>=2->feast) (2.0.1)\n",
            "Requirement already satisfied: pyparsing!=3.0.5,>=2.0.2 in /usr/local/lib/python3.7/dist-packages (from packaging>=20.0->dask<2022.02.0,>=2021.*->feast) (3.0.9)\n",
            "Collecting locket\n",
            "  Downloading locket-1.0.0-py2.py3-none-any.whl (4.4 kB)\n",
            "Requirement already satisfied: pyasn1<0.5.0,>=0.4.6 in /usr/local/lib/python3.7/dist-packages (from pyasn1-modules>=0.2.1->google-auth<2.0dev,>=1.25.0->google-api-core<3,>=1.23.0->feast) (0.4.8)\n",
            "Requirement already satisfied: urllib3!=1.25.0,!=1.25.1,<1.26,>=1.21.1 in /usr/local/lib/python3.7/dist-packages (from requests<3.0.0dev,>=2.18.0->google-api-core<3,>=1.23.0->feast) (1.24.3)\n",
            "Requirement already satisfied: chardet<4,>=3.0.2 in /usr/local/lib/python3.7/dist-packages (from requests<3.0.0dev,>=2.18.0->google-api-core<3,>=1.23.0->feast) (3.0.4)\n",
            "Requirement already satisfied: certifi>=2017.4.17 in /usr/local/lib/python3.7/dist-packages (from requests<3.0.0dev,>=2.18.0->google-api-core<3,>=1.23.0->feast) (2021.10.8)\n",
            "Requirement already satisfied: absl-py<2.0.0,>=0.9 in /usr/local/lib/python3.7/dist-packages (from tensorflow-metadata<2.0.0,>=1.0.0->feast) (1.0.0)\n",
            "Collecting asgiref>=3.4.0\n",
            "  Downloading asgiref-3.5.2-py3-none-any.whl (22 kB)\n",
            "Collecting h11>=0.8\n",
            "  Downloading h11-0.13.0-py3-none-any.whl (58 kB)\n",
            "\u001b[K     |████████████████████████████████| 58 kB 7.5 MB/s \n",
            "\u001b[?25hCollecting httptools>=0.4.0\n",
            "  Downloading httptools-0.4.0-cp37-cp37m-manylinux_2_5_x86_64.manylinux1_x86_64.manylinux_2_12_x86_64.manylinux2010_x86_64.whl (406 kB)\n",
            "\u001b[K     |████████████████████████████████| 406 kB 51.9 MB/s \n",
            "\u001b[?25hCollecting python-dotenv>=0.13\n",
            "  Downloading python_dotenv-0.20.0-py3-none-any.whl (17 kB)\n",
            "Collecting uvloop!=0.15.0,!=0.15.1,>=0.14.0\n",
            "  Downloading uvloop-0.16.0-cp37-cp37m-manylinux_2_12_x86_64.manylinux2010_x86_64.whl (3.8 MB)\n",
            "\u001b[K     |████████████████████████████████| 3.8 MB 56.5 MB/s \n",
            "\u001b[?25hCollecting websockets>=10.0\n",
            "  Downloading websockets-10.3-cp37-cp37m-manylinux_2_5_x86_64.manylinux1_x86_64.manylinux_2_12_x86_64.manylinux2010_x86_64.whl (112 kB)\n",
            "\u001b[K     |████████████████████████████████| 112 kB 57.9 MB/s \n",
            "\u001b[?25hCollecting watchgod>=0.6\n",
            "  Downloading watchgod-0.8.2-py3-none-any.whl (12 kB)\n",
            "Requirement already satisfied: importlib-metadata in /usr/local/lib/python3.7/dist-packages (from jsonschema->feast) (4.11.3)\n",
            "Requirement already satisfied: pyrsistent!=0.17.0,!=0.17.1,!=0.17.2,>=0.14.0 in /usr/local/lib/python3.7/dist-packages (from jsonschema->feast) (0.18.1)\n",
            "Requirement already satisfied: importlib-resources>=1.4.0 in /usr/local/lib/python3.7/dist-packages (from jsonschema->feast) (5.7.1)\n",
            "Requirement already satisfied: attrs>=17.4.0 in /usr/local/lib/python3.7/dist-packages (from jsonschema->feast) (21.4.0)\n",
            "Requirement already satisfied: zipp>=3.1.0 in /usr/local/lib/python3.7/dist-packages (from importlib-resources>=1.4.0->jsonschema->feast) (3.8.0)\n",
            "Building wheels for collected packages: pandavro\n",
            "  Building wheel for pandavro (setup.py) ... \u001b[?25l\u001b[?25hdone\n",
            "  Created wheel for pandavro: filename=pandavro-1.5.2-py3-none-any.whl size=2953 sha256=ac5f1ef3a53eeb7db5b6cc83c05c31c9b883da547fd824b0cc28625e1a6b5ebd\n",
            "  Stored in directory: /root/.cache/pip/wheels/33/3f/96/9f1b46a9f7f6043ff4741b1aa1a7b249ba33be4dc1d08843e4\n",
            "Successfully built pandavro\n",
            "Installing collected packages: sniffio, locket, h11, asgiref, anyio, websockets, watchgod, uvloop, uvicorn, starlette, PyYAML, python-dotenv, pydantic, partd, httptools, grpcio, googleapis-common-protos, fsspec, fastavro, toml, proto-plus, pandavro, mmh3, grpcio-reflection, fastapi, dask, colorama, feast\n",
            "  Attempting uninstall: PyYAML\n",
            "    Found existing installation: PyYAML 3.13\n",
            "    Uninstalling PyYAML-3.13:\n",
            "      Successfully uninstalled PyYAML-3.13\n",
            "  Attempting uninstall: grpcio\n",
            "    Found existing installation: grpcio 1.46.1\n",
            "    Uninstalling grpcio-1.46.1:\n",
            "      Successfully uninstalled grpcio-1.46.1\n",
            "  Attempting uninstall: googleapis-common-protos\n",
            "    Found existing installation: googleapis-common-protos 1.56.1\n",
            "    Uninstalling googleapis-common-protos-1.56.1:\n",
            "      Successfully uninstalled googleapis-common-protos-1.56.1\n",
            "  Attempting uninstall: dask\n",
            "    Found existing installation: dask 2.12.0\n",
            "    Uninstalling dask-2.12.0:\n",
            "      Successfully uninstalled dask-2.12.0\n",
            "\u001b[31mERROR: pip's dependency resolver does not currently take into account all the packages that are installed. This behaviour is the source of the following dependency conflicts.\n",
            "tensorflow 2.8.0+zzzcolab20220506162203 requires tf-estimator-nightly==2.8.0.dev2021122109, which is not installed.\u001b[0m\n",
            "Successfully installed PyYAML-6.0 anyio-3.6.1 asgiref-3.5.2 colorama-0.4.4 dask-2022.1.1 fastapi-0.78.0 fastavro-1.4.12 feast-0.21.2 fsspec-2022.5.0 googleapis-common-protos-1.52.0 grpcio-1.46.3 grpcio-reflection-1.46.3 h11-0.13.0 httptools-0.4.0 locket-1.0.0 mmh3-3.0.0 pandavro-1.5.2 partd-1.2.0 proto-plus-1.19.6 pydantic-1.9.1 python-dotenv-0.20.0 sniffio-1.2.0 starlette-0.19.1 toml-0.10.2 uvicorn-0.17.6 uvloop-0.16.0 watchgod-0.8.2 websockets-10.3\n"
          ]
        },
        {
          "data": {
            "application/vnd.colab-display-data+json": {
              "pip_warning": {
                "packages": [
                  "google"
                ]
              }
            }
          },
          "metadata": {},
          "output_type": "display_data"
        }
      ],
      "source": [
        "!pip install feast pandas"
      ]
    },
    {
      "cell_type": "markdown",
      "metadata": {
        "id": "onnQwyO23Jse"
      },
      "source": [
        "#### 2. Check feast version"
      ]
    },
    {
      "cell_type": "code",
      "execution_count": 2,
      "metadata": {
        "colab": {
          "base_uri": "https://localhost:8080/"
        },
        "id": "vph8Obk517Vz",
        "outputId": "9f68bf30-c70b-42ec-d0b9-09930dd87c67"
      },
      "outputs": [
        {
          "name": "stdout",
          "output_type": "stream",
          "text": [
            "Feast is an open source project that collects anonymized error reporting and usage statistics. To opt out or learn more see https://docs.feast.dev/reference/usage\n",
            "/usr/local/lib/python3.7/dist-packages/scipy/fft/__init__.py:97: DeprecationWarning: The module numpy.dual is deprecated.  Instead of using dual, use the functions directly from numpy or scipy.\n",
            "  from numpy.dual import register_func\n",
            "/usr/local/lib/python3.7/dist-packages/scipy/sparse/sputils.py:17: DeprecationWarning: `np.typeDict` is a deprecated alias for `np.sctypeDict`.\n",
            "  supported_dtypes = [np.typeDict[x] for x in supported_dtypes]\n",
            "Feast SDK Version: \"feast 0.21.2\"\n"
          ]
        }
      ],
      "source": [
        "!feast version "
      ]
    },
    {
      "cell_type": "markdown",
      "metadata": {
        "id": "rBWhdp15alZ3"
      },
      "source": [
        "#### 3. Create feast repo"
      ]
    },
    {
      "cell_type": "code",
      "execution_count": 3,
      "metadata": {
        "colab": {
          "base_uri": "https://localhost:8080/"
        },
        "id": "fPIv6XRNJlb2",
        "outputId": "b5382b36-44fd-4260-d3e5-b472ebab9191"
      },
      "outputs": [
        {
          "name": "stdout",
          "output_type": "stream",
          "text": [
            "/usr/local/lib/python3.7/dist-packages/scipy/fft/__init__.py:97: DeprecationWarning: The module numpy.dual is deprecated.  Instead of using dual, use the functions directly from numpy or scipy.\n",
            "  from numpy.dual import register_func\n",
            "/usr/local/lib/python3.7/dist-packages/scipy/sparse/sputils.py:17: DeprecationWarning: `np.typeDict` is a deprecated alias for `np.sctypeDict`.\n",
            "  supported_dtypes = [np.typeDict[x] for x in supported_dtypes]\n",
            "\n",
            "Creating a new Feast repository in \u001b[1m\u001b[32m/content/feature_repo\u001b[0m.\n",
            "\n"
          ]
        }
      ],
      "source": [
        "!feast init feature_repo"
      ]
    },
    {
      "cell_type": "markdown",
      "metadata": {
        "id": "QrhvjwATZ4Y5"
      },
      "source": [
        "#### 4. Review code (menu on left)"
      ]
    },
    {
      "cell_type": "markdown",
      "metadata": {
        "id": "6LLfADOIKYtx"
      },
      "source": [
        "Click on directories list and review files."
      ]
    },
    {
      "cell_type": "markdown",
      "metadata": {
        "id": "eFa4ubaGasyJ"
      },
      "source": [
        "#### 5. Download code from repo (if it's not done yet)."
      ]
    },
    {
      "cell_type": "code",
      "execution_count": 4,
      "metadata": {
        "colab": {
          "base_uri": "https://localhost:8080/"
        },
        "id": "AD4BEhsPpd-3",
        "outputId": "2097a406-72dd-41bc-b7dd-7fecb7137230"
      },
      "outputs": [
        {
          "name": "stdout",
          "output_type": "stream",
          "text": [
            "Cloning into 'feast-basic-demo-aitech'...\n",
            "remote: Enumerating objects: 9, done.\u001b[K\n",
            "remote: Counting objects: 100% (9/9), done.\u001b[K\n",
            "remote: Compressing objects: 100% (8/8), done.\u001b[K\n",
            "remote: Total 9 (delta 0), reused 9 (delta 0), pack-reused 0\u001b[K\n",
            "Unpacking objects: 100% (9/9), done.\n"
          ]
        }
      ],
      "source": [
        "!git clone https://github.com/juskuz/feast-basic-demo-aitech.git"
      ]
    },
    {
      "cell_type": "markdown",
      "metadata": {
        "id": "i-MQ0FT2axhP"
      },
      "source": [
        "#### 6. Generate sample data \n"
      ]
    },
    {
      "cell_type": "code",
      "execution_count": 5,
      "metadata": {
        "colab": {
          "base_uri": "https://localhost:8080/"
        },
        "id": "9RHLPbgHpyxf",
        "outputId": "8ae555ad-8b53-4d8d-b703-88c379f23521"
      },
      "outputs": [
        {
          "name": "stdout",
          "output_type": "stream",
          "text": [
            "INFO:root:Generating synthetic data from 2022-05-09 to 2022-05-19 23:00:00...\n",
            "INFO:root:9900 stats rows generated\n",
            "INFO:root:528 payments rows generated\n",
            "INFO:root:Saving player stats to /content/generated_data/player_stats\n",
            "INFO:root:Saving player payments to /content/generated_data/player_payments\n"
          ]
        }
      ],
      "source": [
        "!python feast-basic-demo-aitech/data_generator.py 50 generated_data"
      ]
    },
    {
      "cell_type": "code",
      "execution_count": 6,
      "metadata": {
        "colab": {
          "base_uri": "https://localhost:8080/"
        },
        "id": "1pUVCfFauk6u",
        "outputId": "ea03c86b-73e0-4648-d4c6-a3466ee50bbd"
      },
      "outputs": [
        {
          "name": "stdout",
          "output_type": "stream",
          "text": [
            "feast-basic-demo-aitech  feature_repo  generated_data  sample_data\n"
          ]
        }
      ],
      "source": [
        "# new directory appeared\n",
        "!ls"
      ]
    },
    {
      "cell_type": "markdown",
      "metadata": {
        "id": "dWa5uUs8a5HP"
      },
      "source": [
        "#### 7. Show generated data (_*.parquet_ file)\n",
        "\n",
        "\n",
        "File can be also downloaded and opened with any tool for parquet files (e.g.ParquetViewer or PowerBI)."
      ]
    },
    {
      "cell_type": "code",
      "execution_count": null,
      "metadata": {
        "id": "ff4OfxOOun99"
      },
      "outputs": [],
      "source": [
        "# run script (trimmed output) or copy content and run in notebook (visible more)\n",
        "# !python feast-basic-demo-aitech/show_generated_data.py"
      ]
    },
    {
      "cell_type": "code",
      "execution_count": 7,
      "metadata": {
        "colab": {
          "base_uri": "https://localhost:8080/"
        },
        "id": "1mDfID13WwUv",
        "outputId": "d2113325-ecc9-4df4-90bb-877d066f58bd"
      },
      "outputs": [
        {
          "name": "stdout",
          "output_type": "stream",
          "text": [
            "\n",
            "----------------------PAYMENTS DF----------------------\n",
            "     index player_id                  ts  amount  transactions\n",
            "0        0       0QG 2022-05-09 00:00:00  163.48           4.0\n",
            "1        1       0QG 2022-05-09 01:00:00  820.94           8.0\n",
            "2        2       0QG 2022-05-09 02:00:00  942.34           2.0\n",
            "3        3       0QG 2022-05-09 03:00:00  622.34           8.0\n",
            "4        4       0QG 2022-05-09 04:00:00  469.93           3.0\n",
            "..     ...       ...                 ...     ...           ...\n",
            "523  13195       ZA9 2022-05-19 19:00:00  586.61           8.0\n",
            "524  13196       ZA9 2022-05-19 20:00:00  468.32          10.0\n",
            "525  13197       ZA9 2022-05-19 21:00:00   44.81           8.0\n",
            "526  13198       ZA9 2022-05-19 22:00:00  451.02           6.0\n",
            "527  13199       ZA9 2022-05-19 23:00:00  999.38           5.0\n",
            "\n",
            "[528 rows x 5 columns]\n",
            "Length of df: 528\n",
            "Types:\n",
            "index                    int64\n",
            "player_id               object\n",
            "ts              datetime64[ns]\n",
            "amount                 float64\n",
            "transactions           float64\n",
            "dtype: object\n",
            "\n",
            "----------------------STATS DF----------------------\n",
            "      player_id                  ts  win_loss_ratio  games_played  \\\n",
            "0           0QG 2022-05-09 00:00:00        0.333310          26.0   \n",
            "2           0QG 2022-05-09 02:00:00        0.941497         142.0   \n",
            "3           0QG 2022-05-09 03:00:00        0.205067          30.0   \n",
            "4           0QG 2022-05-09 04:00:00        0.728306          70.0   \n",
            "5           0QG 2022-05-09 05:00:00        0.373082          27.0   \n",
            "...         ...                 ...             ...           ...   \n",
            "13195       ZA9 2022-05-19 19:00:00        0.317809           5.0   \n",
            "13196       ZA9 2022-05-19 20:00:00        0.278378         278.0   \n",
            "13197       ZA9 2022-05-19 21:00:00        0.804505          15.0   \n",
            "13198       ZA9 2022-05-19 22:00:00        0.767787          16.0   \n",
            "13199       ZA9 2022-05-19 23:00:00        0.537832         440.0   \n",
            "\n",
            "       time_in_game  \n",
            "0       3052.535959  \n",
            "2       1812.941337  \n",
            "3        947.984904  \n",
            "4       3458.745912  \n",
            "5        474.733433  \n",
            "...             ...  \n",
            "13195   1170.165397  \n",
            "13196    613.444688  \n",
            "13197    255.542640  \n",
            "13198   3292.831517  \n",
            "13199    937.854433  \n",
            "\n",
            "[9900 rows x 5 columns]\n",
            "Length of df: 9900\n",
            "Types:\n",
            "player_id                 object\n",
            "ts                datetime64[ns]\n",
            "win_loss_ratio           float64\n",
            "games_played             float64\n",
            "time_in_game             float64\n",
            "dtype: object\n"
          ]
        }
      ],
      "source": [
        "import pandas as pd\n",
        "\n",
        "df = pd.read_parquet(\"generated_data/player_payments\")\n",
        "print()\n",
        "print(\"----------------------PAYMENTS DF----------------------\")\n",
        "print(df)\n",
        "print(\"Length of df:\", len(df))\n",
        "print(\"Types:\")\n",
        "print(df.dtypes)\n",
        "\n",
        "df = pd.read_parquet(\"generated_data/player_stats\")\n",
        "print()\n",
        "print(\"----------------------STATS DF----------------------\")\n",
        "print(df)\n",
        "print(\"Length of df:\", len(df))\n",
        "print(\"Types:\")\n",
        "print(df.dtypes)"
      ]
    },
    {
      "cell_type": "markdown",
      "metadata": {
        "id": "nX8e1T9qGrzj"
      },
      "source": [
        "### 8. Feast (features creating, applying, moving from offline to online)."
      ]
    },
    {
      "cell_type": "markdown",
      "metadata": {
        "id": "mbR2Z_X-lyjJ"
      },
      "source": [
        "After creating feast repo a new file _example.py_ appeared. It contains sample code describing features. Based on it you can create your own file. Below you see code for your newly generated data. Save code as _feature_repo/features.py_). If needed you can change paths (then in further steps you'll need modifications)."
      ]
    },
    {
      "cell_type": "code",
      "execution_count": 8,
      "metadata": {
        "colab": {
          "base_uri": "https://localhost:8080/"
        },
        "id": "A9gwLTvaJ9qu",
        "outputId": "1be26dec-91cf-49bb-f593-41d9ea74d1c5"
      },
      "outputs": [
        {
          "name": "stderr",
          "output_type": "stream",
          "text": [
            "/usr/local/lib/python3.7/dist-packages/scipy/fft/__init__.py:97: DeprecationWarning: The module numpy.dual is deprecated.  Instead of using dual, use the functions directly from numpy or scipy.\n",
            "  from numpy.dual import register_func\n",
            "/usr/local/lib/python3.7/dist-packages/scipy/sparse/sputils.py:17: DeprecationWarning: `np.typeDict` is a deprecated alias for `np.sctypeDict`.\n",
            "  supported_dtypes = [np.typeDict[x] for x in supported_dtypes]\n",
            "/usr/local/lib/python3.7/dist-packages/feast/data_source.py:234: DeprecationWarning: The argument 'event_timestamp_column' is being deprecated. Please use 'timestamp_field' instead. instead. Feast 0.23 and onwards will not support the argument 'event_timestamp_column' for datasources.\n",
            "  DeprecationWarning,\n",
            "/usr/local/lib/python3.7/dist-packages/feast/feature_view.py:259: DeprecationWarning: batch_source and stream_source have been deprecated in favor of `source`.The deprecated fields will be removed in Feast 0.23.\n",
            "  DeprecationWarning,\n",
            "/usr/local/lib/python3.7/dist-packages/feast/feature_view.py:201: DeprecationWarning: The `features` parameter is being deprecated in favor of the `schema` parameter. Please switch from using `features` to `schema`. This will also requiring switching feature definitions from using `Feature` to `Field`. Feast 0.23 and onwards will not support the `features` parameter.\n",
            "  DeprecationWarning,\n"
          ]
        }
      ],
      "source": [
        "from datetime import timedelta\n",
        "\n",
        "from feast import Entity, Feature, FeatureView, FileSource, ValueType\n",
        "\n",
        "payments_source = FileSource(\n",
        "    path=\"/content/generated_data/player_payments\", # set correct path if needed\n",
        "    event_timestamp_column=\"ts\",\n",
        ")\n",
        "\n",
        "player_stats = FileSource(\n",
        "    path=\"/content/generated_data/player_stats\", # set correct path if needed\n",
        "    event_timestamp_column=\"ts\",\n",
        ")\n",
        "\n",
        "player = Entity(name=\"player_id\", value_type=ValueType.STRING, description=\"player id\")\n",
        "\n",
        "payments_fv = FeatureView(\n",
        "    name=\"payments\",\n",
        "    entities=[\"player_id\"],\n",
        "    ttl=timedelta(hours=6),\n",
        "    features=[\n",
        "        Feature(\"amount\", ValueType.FLOAT),\n",
        "        Feature(\"transactions\", ValueType.INT32),\n",
        "    ],\n",
        "    batch_source=payments_source\n",
        ")\n",
        "\n",
        "stats_fv = FeatureView(\n",
        "    name=\"stats\",\n",
        "    entities=[\"player_id\"],\n",
        "    ttl=timedelta(hours=6),\n",
        "    features=[\n",
        "        Feature(\"win_loss_ratio\", ValueType.FLOAT),\n",
        "        Feature(\"games_played\", ValueType.INT32),\n",
        "        Feature(\"time_in_game\", ValueType.FLOAT),\n",
        "    ],\n",
        "    batch_source=player_stats\n",
        ")\n"
      ]
    },
    {
      "cell_type": "markdown",
      "metadata": {
        "id": "vSX7T7kkpA3Z"
      },
      "source": [
        "Remove from repo _example.py_ file. Then run `feast apply`."
      ]
    },
    {
      "cell_type": "code",
      "execution_count": 22,
      "metadata": {
        "colab": {
          "base_uri": "https://localhost:8080/"
        },
        "id": "T2llFKTFpc2n",
        "outputId": "b9c11349-0f63-497f-e735-d6741bb3d33b"
      },
      "outputs": [
        {
          "name": "stdout",
          "output_type": "stream",
          "text": [
            "feast-basic-demo-aitech  feature_repo  generated_data  sample_data\n",
            "feast-basic-demo-aitech  feature_repo  generated_data  sample_data\n"
          ]
        }
      ],
      "source": [
        "# this way you can't change location from terminal\n",
        "!ls\n",
        "!cd feature_repo/\n",
        "!ls"
      ]
    },
    {
      "cell_type": "code",
      "execution_count": 23,
      "metadata": {
        "colab": {
          "base_uri": "https://localhost:8080/"
        },
        "id": "O2-X2dRtp7YG",
        "outputId": "6dd02541-d519-48cf-c776-4b87729f6360"
      },
      "outputs": [
        {
          "name": "stdout",
          "output_type": "stream",
          "text": [
            "feast-basic-demo-aitech  feature_repo  generated_data  sample_data\n"
          ]
        }
      ],
      "source": [
        "# these version also won't work:\n",
        "#1\n",
        "!cd feature_repo/\n",
        "!ls\n",
        "\n",
        "# #2\n",
        "# !cd feature_repo/ | ls\n",
        "\n",
        "# #3 \n",
        "# !cd feature repo/ | feast apply\n",
        "# # throws message: Can't find feature_store.yaml at /content. Make sure you're running feast from an initialized feast repository.\n"
      ]
    },
    {
      "cell_type": "code",
      "execution_count": 9,
      "metadata": {
        "colab": {
          "base_uri": "https://localhost:8080/"
        },
        "id": "NIIjUEuXqoBx",
        "outputId": "d7823c15-0c06-42bd-8ef6-6591840ccfb8"
      },
      "outputs": [
        {
          "name": "stdout",
          "output_type": "stream",
          "text": [
            "/usr/local/lib/python3.7/dist-packages/scipy/fft/__init__.py:97: DeprecationWarning: The module numpy.dual is deprecated.  Instead of using dual, use the functions directly from numpy or scipy.\n",
            "  from numpy.dual import register_func\n",
            "/usr/local/lib/python3.7/dist-packages/scipy/sparse/sputils.py:17: DeprecationWarning: `np.typeDict` is a deprecated alias for `np.sctypeDict`.\n",
            "  supported_dtypes = [np.typeDict[x] for x in supported_dtypes]\n",
            "/usr/local/lib/python3.7/dist-packages/feast/data_source.py:234: DeprecationWarning: The argument 'event_timestamp_column' is being deprecated. Please use 'timestamp_field' instead. instead. Feast 0.23 and onwards will not support the argument 'event_timestamp_column' for datasources.\n",
            "  DeprecationWarning,\n",
            "/usr/local/lib/python3.7/dist-packages/feast/feature_view.py:259: DeprecationWarning: batch_source and stream_source have been deprecated in favor of `source`.The deprecated fields will be removed in Feast 0.23.\n",
            "  DeprecationWarning,\n",
            "/usr/local/lib/python3.7/dist-packages/feast/feature_view.py:201: DeprecationWarning: The `features` parameter is being deprecated in favor of the `schema` parameter. Please switch from using `features` to `schema`. This will also requiring switching feature definitions from using `Feature` to `Field`. Feast 0.23 and onwards will not support the `features` parameter.\n",
            "  DeprecationWarning,\n",
            "Created entity \u001b[1m\u001b[32mplayer_id\u001b[0m\n",
            "Created feature view \u001b[1m\u001b[32mstats\u001b[0m\n",
            "Created feature view \u001b[1m\u001b[32mpayments\u001b[0m\n",
            "\n",
            "Created sqlite table \u001b[1m\u001b[32mfeature_repo_payments\u001b[0m\n",
            "Created sqlite table \u001b[1m\u001b[32mfeature_repo_stats\u001b[0m\n",
            "\n"
          ]
        }
      ],
      "source": [
        "# this works\n",
        "!feast -c feature_repo/ apply"
      ]
    },
    {
      "cell_type": "code",
      "execution_count": null,
      "metadata": {
        "id": "7vK_Joh8ujq-"
      },
      "outputs": [],
      "source": [
        "# run script or copy content and run in notebook\n",
        "# !python feast-basic-demo-aitech/show_stores.py"
      ]
    },
    {
      "cell_type": "code",
      "execution_count": 10,
      "metadata": {
        "id": "K39xePcOXawO"
      },
      "outputs": [],
      "source": [
        "from datetime import datetime\n",
        "from os import stat\n",
        "\n",
        "from feast import FeatureStore\n",
        "import pandas as pd\n",
        "\n",
        "\n",
        "def show_stores():\n",
        "    PLAYER_ID1 = \"0QG\"\n",
        "    PLAYER_ID2 = \"ZA9\"\n",
        "\n",
        "    fs = FeatureStore(\"feature_repo\")\n",
        "    payments = pd.read_parquet(\"generated_data/player_payments\")[[\"player_id\", \"ts\"]]\n",
        "    payments = payments[payments[\"player_id\"].isin([PLAYER_ID1, PLAYER_ID2])]\n",
        "    stats = pd.read_parquet(\"generated_data/player_stats\")[[\"player_id\", \"ts\"]]\n",
        "    stats = stats[stats[\"player_id\"].isin([PLAYER_ID1, PLAYER_ID2])]\n",
        "    entity_df = pd.concat([payments, stats]).sort_index().drop_duplicates().reset_index()\n",
        "\n",
        "    print()\n",
        "    print(\"----------------------HIST DATA FRAME----------------------\")\n",
        "    print(entity_df)\n",
        "    \n",
        "    trainging_df = fs.get_historical_features(\n",
        "        entity_df=entity_df,\n",
        "        features=[\n",
        "            \"payments:amount\",\n",
        "            \"payments:transactions\",\n",
        "            \"stats:win_loss_ratio\",\n",
        "            \"stats:games_played\",\n",
        "            \"stats:time_in_game\",\n",
        "        ]\n",
        "    ).to_df()\n",
        "\n",
        "    print()\n",
        "    print(\"----------------------OFFLINE DATA FRAME PLAYER1----------------------\")\n",
        "    print(trainging_df[trainging_df[\"player_id\"] == PLAYER_ID1].reset_index().drop(columns=[\"level_0\"]))\n",
        "\n",
        "    print()\n",
        "    print(\"----------------------OFFLINE DATA FRAME PLAYER2----------------------\")\n",
        "    print(trainging_df[trainging_df[\"player_id\"] == PLAYER_ID2].reset_index().drop(columns=[\"level_0\"]))\n",
        "\n",
        "    entity_rows = [{\"player_id\": PLAYER_ID1}, {\"player_id\": PLAYER_ID2}]\n",
        "    online_df = fs.get_online_features(\n",
        "        features=[\n",
        "            \"payments:amount\",\n",
        "            \"payments:transactions\",\n",
        "            \"stats:win_loss_ratio\",\n",
        "            \"stats:games_played\",\n",
        "            \"stats:time_in_game\",\n",
        "        ],\n",
        "        entity_rows=entity_rows\n",
        "    ).to_df()\n",
        "\n",
        "    print()\n",
        "    print(\"----------------------ONLINE DATA FRAME----------------------\")\n",
        "    print(online_df[[\"player_id\", \"amount\", \"transactions\", \"win_loss_ratio\", \"games_played\", \"time_in_game\"]])\n",
        "\n"
      ]
    },
    {
      "cell_type": "code",
      "execution_count": 11,
      "metadata": {
        "colab": {
          "base_uri": "https://localhost:8080/"
        },
        "id": "K3CxaDRcX3V5",
        "outputId": "074e557b-3ffe-4711-849f-7587e57b2d78"
      },
      "outputs": [
        {
          "name": "stdout",
          "output_type": "stream",
          "text": [
            "\n",
            "----------------------HIST DATA FRAME----------------------\n",
            "     index player_id                  ts\n",
            "0        0       0QG 2022-05-09 00:00:00\n",
            "1        1       0QG 2022-05-09 01:00:00\n",
            "2        2       0QG 2022-05-09 02:00:00\n",
            "3        3       0QG 2022-05-09 03:00:00\n",
            "4        4       0QG 2022-05-09 04:00:00\n",
            "..     ...       ...                 ...\n",
            "523    523       ZA9 2022-05-19 19:00:00\n",
            "524    524       ZA9 2022-05-19 20:00:00\n",
            "525    525       ZA9 2022-05-19 21:00:00\n",
            "526    526       ZA9 2022-05-19 22:00:00\n",
            "527    527       ZA9 2022-05-19 23:00:00\n",
            "\n",
            "[528 rows x 3 columns]\n",
            "Using ts as the event timestamp. To specify a column explicitly, please name it event_timestamp.\n",
            "\n",
            "----------------------OFFLINE DATA FRAME PLAYER1----------------------\n",
            "     index player_id                        ts  amount  transactions  \\\n",
            "0        0       0QG 2022-05-09 00:00:00+00:00  163.48           4.0   \n",
            "1        1       0QG 2022-05-09 01:00:00+00:00  820.94           8.0   \n",
            "2        2       0QG 2022-05-09 02:00:00+00:00  942.34           2.0   \n",
            "3        3       0QG 2022-05-09 03:00:00+00:00  622.34           8.0   \n",
            "4        4       0QG 2022-05-09 04:00:00+00:00  469.93           3.0   \n",
            "..     ...       ...                       ...     ...           ...   \n",
            "259    258       0QG 2022-05-19 18:00:00+00:00  212.65           5.0   \n",
            "260    260       0QG 2022-05-19 20:00:00+00:00  691.28           4.0   \n",
            "261    261       0QG 2022-05-19 21:00:00+00:00  682.97          10.0   \n",
            "262    262       0QG 2022-05-19 22:00:00+00:00  452.95           4.0   \n",
            "263    263       0QG 2022-05-19 23:00:00+00:00  495.32           9.0   \n",
            "\n",
            "     win_loss_ratio  games_played  time_in_game  \n",
            "0          0.333310          26.0   3052.535959  \n",
            "1          0.333310          26.0   3052.535959  \n",
            "2          0.941497         142.0   1812.941337  \n",
            "3          0.205067          30.0    947.984904  \n",
            "4          0.728306          70.0   3458.745912  \n",
            "..              ...           ...           ...  \n",
            "259        0.948349          10.0   3346.144126  \n",
            "260        0.948349          10.0   3346.144126  \n",
            "261        0.504200          42.0     56.714136  \n",
            "262        0.351676          47.0   2944.722419  \n",
            "263        0.197570          44.0    501.162720  \n",
            "\n",
            "[264 rows x 8 columns]\n",
            "\n",
            "----------------------OFFLINE DATA FRAME PLAYER2----------------------\n",
            "     index player_id                        ts  amount  transactions  \\\n",
            "0      264       ZA9 2022-05-09 00:00:00+00:00   47.78           7.0   \n",
            "1      265       ZA9 2022-05-09 01:00:00+00:00  994.45           3.0   \n",
            "2      266       ZA9 2022-05-09 02:00:00+00:00  707.63           3.0   \n",
            "3      267       ZA9 2022-05-09 03:00:00+00:00  955.94           9.0   \n",
            "4      268       ZA9 2022-05-09 04:00:00+00:00  897.21           8.0   \n",
            "..     ...       ...                       ...     ...           ...   \n",
            "259    523       ZA9 2022-05-19 19:00:00+00:00  586.61           8.0   \n",
            "260    524       ZA9 2022-05-19 20:00:00+00:00  468.32          10.0   \n",
            "261    525       ZA9 2022-05-19 21:00:00+00:00   44.81           8.0   \n",
            "262    526       ZA9 2022-05-19 22:00:00+00:00  451.02           6.0   \n",
            "263    527       ZA9 2022-05-19 23:00:00+00:00  999.38           5.0   \n",
            "\n",
            "     win_loss_ratio  games_played  time_in_game  \n",
            "0          0.607706          92.0    776.789940  \n",
            "1          0.385835          47.0   3584.296214  \n",
            "2          0.830201          30.0    549.667833  \n",
            "3          0.375126          41.0   3118.359809  \n",
            "4          0.350777          22.0   2286.190685  \n",
            "..              ...           ...           ...  \n",
            "259        0.317809           5.0   1170.165397  \n",
            "260        0.278378         278.0    613.444688  \n",
            "261        0.804505          15.0    255.542640  \n",
            "262        0.767787          16.0   3292.831517  \n",
            "263        0.537832         440.0    937.854433  \n",
            "\n",
            "[264 rows x 8 columns]\n",
            "\n",
            "----------------------ONLINE DATA FRAME----------------------\n",
            "  player_id amount transactions win_loss_ratio games_played time_in_game\n",
            "0       0QG   None         None           None         None         None\n",
            "1       ZA9   None         None           None         None         None\n"
          ]
        }
      ],
      "source": [
        "show_stores()"
      ]
    },
    {
      "cell_type": "markdown",
      "metadata": {
        "id": "Yu5hxurl_PEf"
      },
      "source": [
        "Nothing appeared in ONLINE part beacause we didn't run `feast materialize`. This command needs start and end timepoints. It can be done using command below(here binding to variables):\n",
        "`MAT_START_TIME=$(date -u +\"%Y-%m-%dT06:00:00\")`\n",
        "`MAT_END_TIME=$(date -u +\"%Y-%m-%dT08:00:00\")`\n"
      ]
    },
    {
      "cell_type": "code",
      "execution_count": 12,
      "metadata": {
        "colab": {
          "base_uri": "https://localhost:8080/"
        },
        "id": "FaEtm29A_kbP",
        "outputId": "e4866446-56ec-46d6-ddf7-0c549e8b73ac"
      },
      "outputs": [
        {
          "name": "stdout",
          "output_type": "stream",
          "text": [
            "/usr/local/lib/python3.7/dist-packages/scipy/fft/__init__.py:97: DeprecationWarning: The module numpy.dual is deprecated.  Instead of using dual, use the functions directly from numpy or scipy.\n",
            "  from numpy.dual import register_func\n",
            "/usr/local/lib/python3.7/dist-packages/scipy/sparse/sputils.py:17: DeprecationWarning: `np.typeDict` is a deprecated alias for `np.sctypeDict`.\n",
            "  supported_dtypes = [np.typeDict[x] for x in supported_dtypes]\n",
            "Usage: feast materialize [OPTIONS] START_TS END_TS\n",
            "Try 'feast materialize --help' for help.\n",
            "\n",
            "Error: Missing argument 'START_TS'.\n"
          ]
        }
      ],
      "source": [
        "!MAT_START_TIME=$(date -u +\"%Y-%m-%dT06:00:00\")\n",
        "!MAT_END_TIME=$(date -u +\"%Y-%m-%dT08:00:00\")\n",
        "\n",
        "!feast materialize $MAT_START_TIME $MAT_END_TIME"
      ]
    },
    {
      "cell_type": "markdown",
      "metadata": {
        "id": "Q4zUx2o5Hyu2"
      },
      "source": [
        "Code is not working beacause variable is not remembered. Command `feast materialize` needs to be run in directory with _feature_store.yaml_ or the path should be specified with -c parameter."
      ]
    },
    {
      "cell_type": "code",
      "execution_count": 13,
      "metadata": {
        "colab": {
          "base_uri": "https://localhost:8080/"
        },
        "id": "4AEsGrUxIKpR",
        "outputId": "c4698104-dc06-4309-f7d7-420704ca11c7"
      },
      "outputs": [
        {
          "name": "stdout",
          "output_type": "stream",
          "text": [
            "2022-05-20T06:00:00\n",
            "2022-05-20T08:00:00\n"
          ]
        }
      ],
      "source": [
        "!(date -u +\"%Y-%m-%dT06:00:00\")\n",
        "!(date -u +\"%Y-%m-%dT08:00:00\")"
      ]
    },
    {
      "cell_type": "code",
      "execution_count": 14,
      "metadata": {
        "colab": {
          "base_uri": "https://localhost:8080/"
        },
        "id": "VlqHgzjcgzqU",
        "outputId": "8cd9aed1-f69f-4ff4-9457-f563f96137c2"
      },
      "outputs": [
        {
          "name": "stdout",
          "output_type": "stream",
          "text": [
            "/usr/local/lib/python3.7/dist-packages/scipy/fft/__init__.py:97: DeprecationWarning: The module numpy.dual is deprecated.  Instead of using dual, use the functions directly from numpy or scipy.\n",
            "  from numpy.dual import register_func\n",
            "/usr/local/lib/python3.7/dist-packages/scipy/sparse/sputils.py:17: DeprecationWarning: `np.typeDict` is a deprecated alias for `np.sctypeDict`.\n",
            "  supported_dtypes = [np.typeDict[x] for x in supported_dtypes]\n",
            "Materializing \u001b[1m\u001b[32m2\u001b[0m feature views from \u001b[1m\u001b[32m2022-05-20 06:00:00+00:00\u001b[0m to \u001b[1m\u001b[32m2022-05-20 08:00:00+00:00\u001b[0m into the \u001b[1m\u001b[32msqlite\u001b[0m online store.\n",
            "\n",
            "\u001b[1m\u001b[32mstats\u001b[0m:\n",
            "0it [00:00, ?it/s]\n",
            "\u001b[1m\u001b[32mpayments\u001b[0m:\n",
            "0it [00:00, ?it/s]\n"
          ]
        }
      ],
      "source": [
        "!feast -c feature_repo/ materialize 2022-05-20T06:00:00 2022-05-20T08:00:00"
      ]
    },
    {
      "cell_type": "markdown",
      "metadata": {
        "id": "T-s7FFMVg4zr"
      },
      "source": [
        "Check if data appeared"
      ]
    },
    {
      "cell_type": "code",
      "execution_count": 15,
      "metadata": {
        "colab": {
          "base_uri": "https://localhost:8080/"
        },
        "id": "URpvmlo8hDWW",
        "outputId": "0d9e2f03-788a-4fdd-9b71-365610358282"
      },
      "outputs": [
        {
          "name": "stdout",
          "output_type": "stream",
          "text": [
            "\n",
            "----------------------HIST DATA FRAME----------------------\n",
            "     index player_id                  ts\n",
            "0        0       0QG 2022-05-09 00:00:00\n",
            "1        1       0QG 2022-05-09 01:00:00\n",
            "2        2       0QG 2022-05-09 02:00:00\n",
            "3        3       0QG 2022-05-09 03:00:00\n",
            "4        4       0QG 2022-05-09 04:00:00\n",
            "..     ...       ...                 ...\n",
            "523    523       ZA9 2022-05-19 19:00:00\n",
            "524    524       ZA9 2022-05-19 20:00:00\n",
            "525    525       ZA9 2022-05-19 21:00:00\n",
            "526    526       ZA9 2022-05-19 22:00:00\n",
            "527    527       ZA9 2022-05-19 23:00:00\n",
            "\n",
            "[528 rows x 3 columns]\n",
            "Using ts as the event timestamp. To specify a column explicitly, please name it event_timestamp.\n",
            "\n",
            "----------------------OFFLINE DATA FRAME PLAYER1----------------------\n",
            "     index player_id                        ts  amount  transactions  \\\n",
            "0        0       0QG 2022-05-09 00:00:00+00:00  163.48           4.0   \n",
            "1        1       0QG 2022-05-09 01:00:00+00:00  820.94           8.0   \n",
            "2        2       0QG 2022-05-09 02:00:00+00:00  942.34           2.0   \n",
            "3        3       0QG 2022-05-09 03:00:00+00:00  622.34           8.0   \n",
            "4        4       0QG 2022-05-09 04:00:00+00:00  469.93           3.0   \n",
            "..     ...       ...                       ...     ...           ...   \n",
            "259    258       0QG 2022-05-19 18:00:00+00:00  212.65           5.0   \n",
            "260    260       0QG 2022-05-19 20:00:00+00:00  691.28           4.0   \n",
            "261    261       0QG 2022-05-19 21:00:00+00:00  682.97          10.0   \n",
            "262    262       0QG 2022-05-19 22:00:00+00:00  452.95           4.0   \n",
            "263    263       0QG 2022-05-19 23:00:00+00:00  495.32           9.0   \n",
            "\n",
            "     win_loss_ratio  games_played  time_in_game  \n",
            "0          0.333310          26.0   3052.535959  \n",
            "1          0.333310          26.0   3052.535959  \n",
            "2          0.941497         142.0   1812.941337  \n",
            "3          0.205067          30.0    947.984904  \n",
            "4          0.728306          70.0   3458.745912  \n",
            "..              ...           ...           ...  \n",
            "259        0.948349          10.0   3346.144126  \n",
            "260        0.948349          10.0   3346.144126  \n",
            "261        0.504200          42.0     56.714136  \n",
            "262        0.351676          47.0   2944.722419  \n",
            "263        0.197570          44.0    501.162720  \n",
            "\n",
            "[264 rows x 8 columns]\n",
            "\n",
            "----------------------OFFLINE DATA FRAME PLAYER2----------------------\n",
            "     index player_id                        ts  amount  transactions  \\\n",
            "0      264       ZA9 2022-05-09 00:00:00+00:00   47.78           7.0   \n",
            "1      265       ZA9 2022-05-09 01:00:00+00:00  994.45           3.0   \n",
            "2      266       ZA9 2022-05-09 02:00:00+00:00  707.63           3.0   \n",
            "3      267       ZA9 2022-05-09 03:00:00+00:00  955.94           9.0   \n",
            "4      268       ZA9 2022-05-09 04:00:00+00:00  897.21           8.0   \n",
            "..     ...       ...                       ...     ...           ...   \n",
            "259    523       ZA9 2022-05-19 19:00:00+00:00  586.61           8.0   \n",
            "260    524       ZA9 2022-05-19 20:00:00+00:00  468.32          10.0   \n",
            "261    525       ZA9 2022-05-19 21:00:00+00:00   44.81           8.0   \n",
            "262    526       ZA9 2022-05-19 22:00:00+00:00  451.02           6.0   \n",
            "263    527       ZA9 2022-05-19 23:00:00+00:00  999.38           5.0   \n",
            "\n",
            "     win_loss_ratio  games_played  time_in_game  \n",
            "0          0.607706          92.0    776.789940  \n",
            "1          0.385835          47.0   3584.296214  \n",
            "2          0.830201          30.0    549.667833  \n",
            "3          0.375126          41.0   3118.359809  \n",
            "4          0.350777          22.0   2286.190685  \n",
            "..              ...           ...           ...  \n",
            "259        0.317809           5.0   1170.165397  \n",
            "260        0.278378         278.0    613.444688  \n",
            "261        0.804505          15.0    255.542640  \n",
            "262        0.767787          16.0   3292.831517  \n",
            "263        0.537832         440.0    937.854433  \n",
            "\n",
            "[264 rows x 8 columns]\n",
            "\n",
            "----------------------ONLINE DATA FRAME----------------------\n",
            "  player_id amount transactions win_loss_ratio games_played time_in_game\n",
            "0       0QG   None         None           None         None         None\n",
            "1       ZA9   None         None           None         None         None\n"
          ]
        }
      ],
      "source": [
        "show_stores()"
      ]
    },
    {
      "cell_type": "markdown",
      "metadata": {
        "id": "Flbol5SThIgq"
      },
      "source": [
        "For selected time range the data is not available. Choose another range (wider)."
      ]
    },
    {
      "cell_type": "code",
      "execution_count": 16,
      "metadata": {
        "colab": {
          "base_uri": "https://localhost:8080/"
        },
        "id": "WLyaLKioGvak",
        "outputId": "8265111e-d5f5-468b-8f2e-d56a7cf562f0"
      },
      "outputs": [
        {
          "name": "stdout",
          "output_type": "stream",
          "text": [
            "/usr/local/lib/python3.7/dist-packages/scipy/fft/__init__.py:97: DeprecationWarning: The module numpy.dual is deprecated.  Instead of using dual, use the functions directly from numpy or scipy.\n",
            "  from numpy.dual import register_func\n",
            "/usr/local/lib/python3.7/dist-packages/scipy/sparse/sputils.py:17: DeprecationWarning: `np.typeDict` is a deprecated alias for `np.sctypeDict`.\n",
            "  supported_dtypes = [np.typeDict[x] for x in supported_dtypes]\n",
            "Materializing \u001b[1m\u001b[32m2\u001b[0m feature views from \u001b[1m\u001b[32m2022-05-01 06:00:00+00:00\u001b[0m to \u001b[1m\u001b[32m2022-05-20 08:00:00+00:00\u001b[0m into the \u001b[1m\u001b[32msqlite\u001b[0m online store.\n",
            "\n",
            "\u001b[1m\u001b[32mstats\u001b[0m:\n",
            "100%|█████████████████████████████████████████████████████████████| 50/50 [00:00<00:00, 3396.75it/s]\n",
            "\u001b[1m\u001b[32mpayments\u001b[0m:\n",
            "100%|████████████████████████████████████████████████████████████████| 2/2 [00:00<00:00, 247.61it/s]\n"
          ]
        }
      ],
      "source": [
        "!feast -c feature_repo/ materialize 2022-05-01T06:00:00 2022-05-20T08:00:00"
      ]
    },
    {
      "cell_type": "code",
      "execution_count": 17,
      "metadata": {
        "id": "XvH17Uql2Pg2"
      },
      "outputs": [],
      "source": [
        "# optional: materialize in incremental version\n",
        "# !feast -c feature_repo/ materialize-incremental \"2022-05-22T08:00:00\""
      ]
    },
    {
      "cell_type": "code",
      "execution_count": 18,
      "metadata": {
        "colab": {
          "base_uri": "https://localhost:8080/"
        },
        "id": "G84KdyUqIUvy",
        "outputId": "98182876-fcbc-424d-9e7c-ae97d770756c"
      },
      "outputs": [
        {
          "name": "stdout",
          "output_type": "stream",
          "text": [
            "\n",
            "----------------------HIST DATA FRAME----------------------\n",
            "     index player_id                  ts\n",
            "0        0       0QG 2022-05-09 00:00:00\n",
            "1        1       0QG 2022-05-09 01:00:00\n",
            "2        2       0QG 2022-05-09 02:00:00\n",
            "3        3       0QG 2022-05-09 03:00:00\n",
            "4        4       0QG 2022-05-09 04:00:00\n",
            "..     ...       ...                 ...\n",
            "523    523       ZA9 2022-05-19 19:00:00\n",
            "524    524       ZA9 2022-05-19 20:00:00\n",
            "525    525       ZA9 2022-05-19 21:00:00\n",
            "526    526       ZA9 2022-05-19 22:00:00\n",
            "527    527       ZA9 2022-05-19 23:00:00\n",
            "\n",
            "[528 rows x 3 columns]\n",
            "Using ts as the event timestamp. To specify a column explicitly, please name it event_timestamp.\n",
            "\n",
            "----------------------OFFLINE DATA FRAME PLAYER1----------------------\n",
            "     index player_id                        ts  amount  transactions  \\\n",
            "0        0       0QG 2022-05-09 00:00:00+00:00  163.48           4.0   \n",
            "1        1       0QG 2022-05-09 01:00:00+00:00  820.94           8.0   \n",
            "2        2       0QG 2022-05-09 02:00:00+00:00  942.34           2.0   \n",
            "3        3       0QG 2022-05-09 03:00:00+00:00  622.34           8.0   \n",
            "4        4       0QG 2022-05-09 04:00:00+00:00  469.93           3.0   \n",
            "..     ...       ...                       ...     ...           ...   \n",
            "259    258       0QG 2022-05-19 18:00:00+00:00  212.65           5.0   \n",
            "260    260       0QG 2022-05-19 20:00:00+00:00  691.28           4.0   \n",
            "261    261       0QG 2022-05-19 21:00:00+00:00  682.97          10.0   \n",
            "262    262       0QG 2022-05-19 22:00:00+00:00  452.95           4.0   \n",
            "263    263       0QG 2022-05-19 23:00:00+00:00  495.32           9.0   \n",
            "\n",
            "     win_loss_ratio  games_played  time_in_game  \n",
            "0          0.333310          26.0   3052.535959  \n",
            "1          0.333310          26.0   3052.535959  \n",
            "2          0.941497         142.0   1812.941337  \n",
            "3          0.205067          30.0    947.984904  \n",
            "4          0.728306          70.0   3458.745912  \n",
            "..              ...           ...           ...  \n",
            "259        0.948349          10.0   3346.144126  \n",
            "260        0.948349          10.0   3346.144126  \n",
            "261        0.504200          42.0     56.714136  \n",
            "262        0.351676          47.0   2944.722419  \n",
            "263        0.197570          44.0    501.162720  \n",
            "\n",
            "[264 rows x 8 columns]\n",
            "\n",
            "----------------------OFFLINE DATA FRAME PLAYER2----------------------\n",
            "     index player_id                        ts  amount  transactions  \\\n",
            "0      264       ZA9 2022-05-09 00:00:00+00:00   47.78           7.0   \n",
            "1      265       ZA9 2022-05-09 01:00:00+00:00  994.45           3.0   \n",
            "2      266       ZA9 2022-05-09 02:00:00+00:00  707.63           3.0   \n",
            "3      267       ZA9 2022-05-09 03:00:00+00:00  955.94           9.0   \n",
            "4      268       ZA9 2022-05-09 04:00:00+00:00  897.21           8.0   \n",
            "..     ...       ...                       ...     ...           ...   \n",
            "259    523       ZA9 2022-05-19 19:00:00+00:00  586.61           8.0   \n",
            "260    524       ZA9 2022-05-19 20:00:00+00:00  468.32          10.0   \n",
            "261    525       ZA9 2022-05-19 21:00:00+00:00   44.81           8.0   \n",
            "262    526       ZA9 2022-05-19 22:00:00+00:00  451.02           6.0   \n",
            "263    527       ZA9 2022-05-19 23:00:00+00:00  999.38           5.0   \n",
            "\n",
            "     win_loss_ratio  games_played  time_in_game  \n",
            "0          0.607706          92.0    776.789940  \n",
            "1          0.385835          47.0   3584.296214  \n",
            "2          0.830201          30.0    549.667833  \n",
            "3          0.375126          41.0   3118.359809  \n",
            "4          0.350777          22.0   2286.190685  \n",
            "..              ...           ...           ...  \n",
            "259        0.317809           5.0   1170.165397  \n",
            "260        0.278378         278.0    613.444688  \n",
            "261        0.804505          15.0    255.542640  \n",
            "262        0.767787          16.0   3292.831517  \n",
            "263        0.537832         440.0    937.854433  \n",
            "\n",
            "[264 rows x 8 columns]\n",
            "\n",
            "----------------------ONLINE DATA FRAME----------------------\n",
            "  player_id      amount  transactions  win_loss_ratio  games_played  \\\n",
            "0       0QG  495.320007             9        0.197570            44   \n",
            "1       ZA9  999.380005             5        0.537832           440   \n",
            "\n",
            "   time_in_game  \n",
            "0    501.162720  \n",
            "1    937.854431  \n"
          ]
        }
      ],
      "source": [
        "# !python feast-basic-demo-aitech/show_stores.py\n",
        "show_stores()"
      ]
    },
    {
      "cell_type": "markdown",
      "metadata": {
        "id": "rETSdLh1JS9o"
      },
      "source": [
        "#### Add new data"
      ]
    },
    {
      "cell_type": "markdown",
      "metadata": {
        "id": "HJglybk3hkTl"
      },
      "source": [
        "If you need add more data you can generate again (now curr mode)."
      ]
    },
    {
      "cell_type": "code",
      "execution_count": 19,
      "metadata": {
        "colab": {
          "base_uri": "https://localhost:8080/"
        },
        "id": "GloOW_wfIUnc",
        "outputId": "5ced6776-b423-4ecd-b54a-ca1fe03d54bd"
      },
      "outputs": [
        {
          "name": "stdout",
          "output_type": "stream",
          "text": [
            "INFO:root:Generating synthetic data from 2022-05-20 to 2022-05-20 21:15:35.620883...\n",
            "INFO:root:825 stats rows generated\n",
            "INFO:root:44 payments rows generated\n",
            "INFO:root:Appending player stats to /content/generated_data/player_stats\n",
            "INFO:root:Appending player payments to /content/generated_data/player_payments\n"
          ]
        }
      ],
      "source": [
        "!python feast-basic-demo-aitech/data_generator.py 50 generated_data --mode curr"
      ]
    },
    {
      "cell_type": "markdown",
      "metadata": {
        "id": "lqAsee5niCP9"
      },
      "source": [
        "After adding new data it's necassary to run `materialize` (move from offline to online)"
      ]
    },
    {
      "cell_type": "code",
      "execution_count": 20,
      "metadata": {
        "colab": {
          "base_uri": "https://localhost:8080/"
        },
        "id": "hukN6ZbKvBOu",
        "outputId": "6a0ebb17-d576-4dc6-a08e-380983519e4f"
      },
      "outputs": [
        {
          "name": "stdout",
          "output_type": "stream",
          "text": [
            "/usr/local/lib/python3.7/dist-packages/scipy/fft/__init__.py:97: DeprecationWarning: The module numpy.dual is deprecated.  Instead of using dual, use the functions directly from numpy or scipy.\n",
            "  from numpy.dual import register_func\n",
            "/usr/local/lib/python3.7/dist-packages/scipy/sparse/sputils.py:17: DeprecationWarning: `np.typeDict` is a deprecated alias for `np.sctypeDict`.\n",
            "  supported_dtypes = [np.typeDict[x] for x in supported_dtypes]\n",
            "Materializing \u001b[1m\u001b[32m2\u001b[0m feature views from \u001b[1m\u001b[32m2022-05-01 06:00:00+00:00\u001b[0m to \u001b[1m\u001b[32m2022-05-20 15:00:00+00:00\u001b[0m into the \u001b[1m\u001b[32msqlite\u001b[0m online store.\n",
            "\n",
            "\u001b[1m\u001b[32mstats\u001b[0m:\n",
            "100%|█████████████████████████████████████████████████████████████| 50/50 [00:00<00:00, 3417.28it/s]\n",
            "\u001b[1m\u001b[32mpayments\u001b[0m:\n",
            "100%|████████████████████████████████████████████████████████████████| 2/2 [00:00<00:00, 232.93it/s]\n"
          ]
        }
      ],
      "source": [
        "!feast -c feature_repo/ materialize 2022-05-01T06:00:00 2022-05-20T15:00:00"
      ]
    },
    {
      "cell_type": "code",
      "execution_count": 21,
      "metadata": {
        "colab": {
          "base_uri": "https://localhost:8080/"
        },
        "id": "vPG4LriRKcrC",
        "outputId": "e4eb2819-b3d5-4def-b61d-c905af5363c0"
      },
      "outputs": [
        {
          "name": "stdout",
          "output_type": "stream",
          "text": [
            "\n",
            "----------------------HIST DATA FRAME----------------------\n",
            "     index player_id                  ts\n",
            "0        0       0QG 2022-05-20 00:00:00\n",
            "1        0       0QG 2022-05-09 00:00:00\n",
            "2        1       0QG 2022-05-20 01:00:00\n",
            "3        2       0QG 2022-05-20 02:00:00\n",
            "4        2       0QG 2022-05-09 02:00:00\n",
            "..     ...       ...                 ...\n",
            "567    567       ZA9 2022-05-19 19:00:00\n",
            "568    568       ZA9 2022-05-19 20:00:00\n",
            "569    569       ZA9 2022-05-19 21:00:00\n",
            "570    570       ZA9 2022-05-19 22:00:00\n",
            "571    571       ZA9 2022-05-19 23:00:00\n",
            "\n",
            "[572 rows x 3 columns]\n",
            "Using ts as the event timestamp. To specify a column explicitly, please name it event_timestamp.\n",
            "\n",
            "----------------------OFFLINE DATA FRAME PLAYER1----------------------\n",
            "     index player_id                        ts  amount  transactions  \\\n",
            "0        0       0QG 2022-05-09 00:00:00+00:00  163.48           4.0   \n",
            "1       45       0QG 2022-05-09 01:00:00+00:00  820.94           8.0   \n",
            "2        2       0QG 2022-05-09 02:00:00+00:00  942.34           2.0   \n",
            "3        3       0QG 2022-05-09 03:00:00+00:00  622.34           8.0   \n",
            "4        4       0QG 2022-05-09 04:00:00+00:00  469.93           3.0   \n",
            "..     ...       ...                       ...     ...           ...   \n",
            "281     17       0QG 2022-05-20 17:00:00+00:00  783.50           7.0   \n",
            "282     18       0QG 2022-05-20 18:00:00+00:00  523.03           3.0   \n",
            "283     20       0QG 2022-05-20 20:00:00+00:00  671.02           4.0   \n",
            "284     19       0QG 2022-05-20 19:00:00+00:00  234.40           3.0   \n",
            "285     21       0QG 2022-05-20 21:00:00+00:00  591.90           7.0   \n",
            "\n",
            "     win_loss_ratio  games_played  time_in_game  \n",
            "0          0.333310          26.0   3052.535959  \n",
            "1          0.333310          26.0   3052.535959  \n",
            "2          0.941497         142.0   1812.941337  \n",
            "3          0.205067          30.0    947.984904  \n",
            "4          0.728306          70.0   3458.745912  \n",
            "..              ...           ...           ...  \n",
            "281        0.925002          26.0   1727.748052  \n",
            "282        0.907059          41.0    517.321370  \n",
            "283        0.823232           4.0    463.285594  \n",
            "284        0.823232           4.0    463.285594  \n",
            "285        0.817463         210.0    177.261919  \n",
            "\n",
            "[286 rows x 8 columns]\n",
            "\n",
            "----------------------OFFLINE DATA FRAME PLAYER2----------------------\n",
            "     index player_id                        ts  amount  transactions  \\\n",
            "0      308       ZA9 2022-05-09 00:00:00+00:00   47.78           7.0   \n",
            "1      309       ZA9 2022-05-09 01:00:00+00:00  994.45           3.0   \n",
            "2      310       ZA9 2022-05-09 02:00:00+00:00  707.63           3.0   \n",
            "3      311       ZA9 2022-05-09 03:00:00+00:00  955.94           9.0   \n",
            "4      312       ZA9 2022-05-09 04:00:00+00:00  897.21           8.0   \n",
            "..     ...       ...                       ...     ...           ...   \n",
            "281     39       ZA9 2022-05-20 17:00:00+00:00  834.95           6.0   \n",
            "282     40       ZA9 2022-05-20 18:00:00+00:00  630.07           8.0   \n",
            "283     41       ZA9 2022-05-20 19:00:00+00:00  709.52           8.0   \n",
            "284     42       ZA9 2022-05-20 20:00:00+00:00  290.02           9.0   \n",
            "285     43       ZA9 2022-05-20 21:00:00+00:00  648.99           8.0   \n",
            "\n",
            "     win_loss_ratio  games_played  time_in_game  \n",
            "0          0.607706          92.0    776.789940  \n",
            "1          0.385835          47.0   3584.296214  \n",
            "2          0.830201          30.0    549.667833  \n",
            "3          0.375126          41.0   3118.359809  \n",
            "4          0.350777          22.0   2286.190685  \n",
            "..              ...           ...           ...  \n",
            "281        0.663342          12.0   1856.216278  \n",
            "282        0.974326          60.0    382.792147  \n",
            "283        0.062311         226.0   1877.404748  \n",
            "284        0.874265          71.0    808.757696  \n",
            "285        0.526442          38.0   1576.083230  \n",
            "\n",
            "[286 rows x 8 columns]\n",
            "\n",
            "----------------------ONLINE DATA FRAME----------------------\n",
            "  player_id      amount  transactions  win_loss_ratio  games_played  \\\n",
            "0       0QG  698.039978             7        0.093197            17   \n",
            "1       ZA9  736.669983            10        0.138058             6   \n",
            "\n",
            "   time_in_game  \n",
            "0   3535.425049  \n",
            "1    284.570831  \n"
          ]
        }
      ],
      "source": [
        "# !python feast-basic-demo-aitech/show_stores.py\n",
        "show_stores()"
      ]
    },
    {
      "cell_type": "code",
      "execution_count": null,
      "metadata": {
        "id": "60ADrSzMj-Tp"
      },
      "outputs": [],
      "source": []
    }
  ],
  "metadata": {
    "colab": {
      "collapsed_sections": [],
      "name": "Feast workshops - Basics.ipynb",
      "provenance": []
    },
    "kernelspec": {
      "display_name": "Python 3",
      "name": "python3"
    },
    "language_info": {
      "name": "python"
    }
  },
  "nbformat": 4,
  "nbformat_minor": 0
}
